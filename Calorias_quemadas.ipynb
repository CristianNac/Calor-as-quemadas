{
 "cells": [
  {
   "cell_type": "markdown",
   "metadata": {},
   "source": [
    "#Analisis exploratorio y programacion estadostica"
   ]
  },
  {
   "cell_type": "markdown",
   "metadata": {},
   "source": [
    "##Datos de calorias quemadas y el tiempo utilizado"
   ]
  },
  {
   "cell_type": "code",
   "execution_count": 1,
   "metadata": {},
   "outputs": [
    {
     "name": "stdout",
     "output_type": "stream",
     "text": [
      "   calorias  tiempo\n",
      "L       420      60\n",
      "M       380      40\n",
      "X       390      75\n",
      "J       490      55\n",
      "V       300      45\n"
     ]
    }
   ],
   "source": [
    "import pandas as pd\n",
    "\n",
    "data = {\n",
    "    'calorias': [420, 380, 390, 490, 300],\n",
    "    'tiempo': [60, 40, 75, 55, 45]\n",
    "}\n",
    "\n",
    "indice = ['L', 'M', 'X', 'J', 'V']\n",
    "\n",
    "df = pd.DataFrame(data, index = indice)\n",
    "print(df)"
   ]
  },
  {
   "cell_type": "markdown",
   "metadata": {},
   "source": [
    "##Estadística descriptiva de los datos (media, mediana, desviación estandar)"
   ]
  },
  {
   "cell_type": "code",
   "execution_count": 3,
   "metadata": {},
   "outputs": [],
   "source": [
    "promedio_tiempo = df['tiempo'].mean()\n",
    "promedio_calorias = df['calorias'].mean()\n",
    "mediana_tiempo = df['tiempo'].median()\n",
    "mediana_calorias = df['calorias'].median()\n",
    "desviacion_std_tiempo = df['tiempo'].std()\n",
    "desviacion_std_calorias = df['calorias'].std()\n"
   ]
  }
 ],
 "metadata": {
  "kernelspec": {
   "display_name": "base",
   "language": "python",
   "name": "python3"
  },
  "language_info": {
   "codemirror_mode": {
    "name": "ipython",
    "version": 3
   },
   "file_extension": ".py",
   "mimetype": "text/x-python",
   "name": "python",
   "nbconvert_exporter": "python",
   "pygments_lexer": "ipython3",
   "version": "3.11.5"
  }
 },
 "nbformat": 4,
 "nbformat_minor": 2
}
