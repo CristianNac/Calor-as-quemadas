{
 "cells": [
  {
   "cell_type": "markdown",
   "metadata": {},
   "source": [
    "#Analisis exploratorio y programacion estadostica"
   ]
  },
  {
   "cell_type": "markdown",
   "metadata": {},
   "source": [
    "##Datos de calorias quemadas y el tiempo utilizado"
   ]
  },
  {
   "cell_type": "code",
   "execution_count": 1,
   "metadata": {},
   "outputs": [
    {
     "name": "stdout",
     "output_type": "stream",
     "text": [
      "   calorias  tiempo\n",
      "L       420      60\n",
      "M       380      40\n",
      "X       390      75\n",
      "J       490      55\n",
      "V       300      45\n"
     ]
    }
   ],
   "source": [
    "import pandas as pd\n",
    "\n",
    "data = {\n",
    "    'calorias': [420, 380, 390, 490, 300],\n",
    "    'tiempo': [60, 40, 75, 55, 45]\n",
    "}\n",
    "\n",
    "indice = ['L', 'M', 'X', 'J', 'V']\n",
    "\n",
    "df = pd.DataFrame(data, index = indice)\n",
    "print(df)"
   ]
  },
  {
   "cell_type": "markdown",
   "metadata": {},
   "source": [
    "##Estadística descriptiva de los datos (media, mediana, desviación estandar)"
   ]
  },
  {
   "cell_type": "code",
   "execution_count": null,
   "metadata": {},
   "outputs": [],
   "source": []
  }
 ],
 "metadata": {
  "language_info": {
   "name": "python"
  }
 },
 "nbformat": 4,
 "nbformat_minor": 2
}
